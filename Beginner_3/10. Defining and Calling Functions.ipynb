{
 "cells": [
  {
   "cell_type": "markdown",
   "metadata": {},
   "source": [
    "# 10.1 Defining a Function\n",
    "\n",
    "The keyword `def` introduces a [function definition](https://docs.python.org/3.5/tutorial/controlflow.html#defining-functions). It's followed by the function name, parenthesized list of formal parameters, and ends with a colon. The indented statements below it are executed with the function name is called."
   ]
  },
  {
   "cell_type": "code",
   "execution_count": null,
   "metadata": {
    "collapsed": false
   },
   "outputs": [],
   "source": [
    "def fib(n):\n",
    "    result = []\n",
    "    a, b = 0, 1\n",
    "    while a < n:\n",
    "        result.append(a)    # see below\n",
    "        a, b = b, a+b\n",
    "    return result"
   ]
  },
  {
   "cell_type": "markdown",
   "metadata": {},
   "source": [
    "The __`fib()`__ function is defined above. Now let's call this function. Calling a function is simple."
   ]
  },
  {
   "cell_type": "code",
   "execution_count": null,
   "metadata": {
    "collapsed": false
   },
   "outputs": [],
   "source": [
    "fib()  # oops"
   ]
  },
  {
   "cell_type": "markdown",
   "metadata": {},
   "source": [
    "## 10.2 Positional Arguments\n",
    "\n",
    "The function requires a positional argument: \"__`n`__\". This is a good time to mention that naming things descriptively really helps. Coupled with Python's helpful error messages, descriptive variable, function, and class names make it easy to understand and debug errors. In this case, 'n' is a number. Specifically, this function returns a fibonacci sequence for as long as the numbers in the squence are less than the given max number.\n",
    "\n",
    "Let's give it a better name and then call the function properly."
   ]
  },
  {
   "cell_type": "code",
   "execution_count": null,
   "metadata": {
    "collapsed": false
   },
   "outputs": [],
   "source": [
    "def fib(max_number):\n",
    "    \"\"\"Return a list containing the Fibonacci series up to max_number.\"\"\"\n",
    "    result = []\n",
    "    a, b = 0, 1\n",
    "    while a < max_number:\n",
    "        result.append(a)  # see below\n",
    "        a, b = b, a+b\n",
    "    return result\n",
    "\n",
    "fib(17)"
   ]
  },
  {
   "cell_type": "markdown",
   "metadata": {},
   "source": [
    "## 10.3 Keyword Arguments\n",
    "\n",
    "Arguments can be made optional when default values are provided. These are known as keyword arguments.\n",
    "\n",
    "Let's make our argument optional with a default max_number then let's call our function without any arguments."
   ]
  },
  {
   "cell_type": "code",
   "execution_count": null,
   "metadata": {
    "collapsed": false
   },
   "outputs": [],
   "source": [
    "def fib(max_number=17):\n",
    "    \"\"\"Return a list containing the Fibonacci series up to max_number.\"\"\"\n",
    "    result = []\n",
    "    a, b = 0, 1\n",
    "    while a < max_number:\n",
    "        result.append(a)  # see below\n",
    "        a, b = b, a+b\n",
    "    return result\n",
    "\n",
    "fib()"
   ]
  },
  {
   "cell_type": "markdown",
   "metadata": {},
   "source": [
    "Now let's try calling our function with a different argument."
   ]
  },
  {
   "cell_type": "code",
   "execution_count": null,
   "metadata": {
    "collapsed": false
   },
   "outputs": [],
   "source": [
    "fib(3)  # still works!"
   ]
  },
  {
   "cell_type": "markdown",
   "metadata": {},
   "source": [
    "## 10.4 Argument Syntax\n",
    "\n",
    "There can be any number of positional arguments and any number of optional arguments. They can appear together in a function definition for as long as required positional arguments come before optional defaulted arguments."
   ]
  },
  {
   "cell_type": "code",
   "execution_count": null,
   "metadata": {
    "collapsed": false
   },
   "outputs": [],
   "source": [
    "def foo(p=1, q):\n",
    "    return p, q\n",
    "\n",
    "foo(1)"
   ]
  },
  {
   "cell_type": "code",
   "execution_count": null,
   "metadata": {
    "collapsed": false
   },
   "outputs": [],
   "source": [
    "def foo(p, q, r=1, s=2):\n",
    "    return p, q, r, s\n",
    "\n",
    "foo(-1, 0)"
   ]
  },
  {
   "cell_type": "code",
   "execution_count": null,
   "metadata": {
    "collapsed": false
   },
   "outputs": [],
   "source": [
    "def foo(p, q, r=1, s=2):\n",
    "    return p, q, r, s\n",
    "\n",
    "foo(0, 1, s=3, r=2)  # the order of defaulted arguments doesn't matter"
   ]
  },
  {
   "cell_type": "markdown",
   "metadata": {},
   "source": [
    "## 10.5 Starred Arguments\n",
    "\n",
    "In Python, there's a third way of passing arguments to a function. If you wanted to pass a list with an unknown length, even empty, you could pass them in starred arguments."
   ]
  },
  {
   "cell_type": "code",
   "execution_count": null,
   "metadata": {
    "collapsed": false
   },
   "outputs": [],
   "source": [
    "args = [1, 2, 3, 4, 5]\n",
    "\n",
    "def arguments(*args):\n",
    "    for a in args:\n",
    "        print(a)\n",
    "    return args\n",
    "\n",
    "arguments(*args)"
   ]
  },
  {
   "cell_type": "markdown",
   "metadata": {},
   "source": [
    "We could have specified each argument and it would have worked but that would mean our arguments are fixed. Starred arguments give us flexibility by making the positional arguments optional and of any length."
   ]
  },
  {
   "cell_type": "code",
   "execution_count": null,
   "metadata": {
    "collapsed": false
   },
   "outputs": [],
   "source": [
    "arguments()  # still works!"
   ]
  },
  {
   "cell_type": "markdown",
   "metadata": {},
   "source": [
    "For keyword arguments, the only difference is to use `**`. You could pass a dictionary and it would be treated as an arbitrary number of keyword arguments."
   ]
  },
  {
   "cell_type": "code",
   "execution_count": null,
   "metadata": {
    "collapsed": false
   },
   "outputs": [],
   "source": [
    "kwargs = {'a': 1, 'b': 2, 'c': 3, 'd': 4, 'e': 5}\n",
    "\n",
    "def keywords(**kwargs):\n",
    "    for key, value in kwargs.items():\n",
    "        print(key, value)\n",
    "    return kwargs\n",
    "\n",
    "keywords(**kwargs)"
   ]
  },
  {
   "cell_type": "code",
   "execution_count": null,
   "metadata": {
    "collapsed": false
   },
   "outputs": [],
   "source": [
    "keywords()  # still works!"
   ]
  },
  {
   "cell_type": "markdown",
   "metadata": {},
   "source": [
    "## 10.6 Packing and Unpacking Arguments\n",
    "\n",
    "### `def function(*args, **kwargs):`\n",
    "\n",
    "This pattern allows you to change functionality while avoiding breaking your code by just checking the arguments if certain parameters exist and then adding a conditional statement based on that.\n",
    "\n",
    "Class methods that use this pattern allow data to be passed between objects without loss, transforming the data as needed without needing to know about other objects.\n",
    "\n",
    "Let's look at more exmaples to illustrate the differences."
   ]
  },
  {
   "cell_type": "code",
   "execution_count": null,
   "metadata": {
    "collapsed": false
   },
   "outputs": [],
   "source": [
    "greeting = 'hello'\n",
    "\n",
    "def echo(arg):\n",
    "    return arg\n",
    "\n",
    "echo(greeting)"
   ]
  },
  {
   "cell_type": "code",
   "execution_count": null,
   "metadata": {
    "collapsed": false
   },
   "outputs": [],
   "source": [
    "echo()  # it's required..."
   ]
  },
  {
   "cell_type": "code",
   "execution_count": null,
   "metadata": {
    "collapsed": false
   },
   "outputs": [],
   "source": [
    "greeting = 'hello'\n",
    "\n",
    "def echo(*arg):\n",
    "    return arg\n",
    "\n",
    "echo(greeting)"
   ]
  },
  {
   "cell_type": "code",
   "execution_count": null,
   "metadata": {
    "collapsed": false
   },
   "outputs": [],
   "source": [
    "greeting = 'hello'\n",
    "\n",
    "def echo(*arg):\n",
    "    return arg\n",
    "\n",
    "echo(*greeting)  # asterisk unpacks iterables"
   ]
  },
  {
   "cell_type": "code",
   "execution_count": null,
   "metadata": {
    "collapsed": false
   },
   "outputs": [],
   "source": [
    "greeting = ['hello']  # it's now a list\n",
    "\n",
    "def echo(*arg):\n",
    "    return arg\n",
    "\n",
    "echo(*greeting)"
   ]
  },
  {
   "cell_type": "code",
   "execution_count": null,
   "metadata": {
    "collapsed": false
   },
   "outputs": [],
   "source": [
    "greeting = [\n",
    "    'hello',\n",
    "    'hi',\n",
    "    'ohayou',\n",
    "]\n",
    "\n",
    "def echo(*arg):\n",
    "    return arg\n",
    "\n",
    "echo(*greeting)  # accepts lists"
   ]
  },
  {
   "cell_type": "code",
   "execution_count": null,
   "metadata": {
    "collapsed": false
   },
   "outputs": [],
   "source": [
    "echo()  # still works!"
   ]
  },
  {
   "cell_type": "markdown",
   "metadata": {},
   "source": [
    "Let's try it with keyword arguments."
   ]
  },
  {
   "cell_type": "code",
   "execution_count": null,
   "metadata": {
    "collapsed": false
   },
   "outputs": [],
   "source": [
    "kwargs = {\n",
    "    'greeting1': 'Hello',\n",
    "    'greeting2': 'Hi',\n",
    "    'greeting3': 'Ohayou',\n",
    "}\n",
    "\n",
    "def echo(kwarg=None, **kwargs):\n",
    "    print(kwarg)\n",
    "    return kwargs\n",
    "\n",
    "echo(kwargs)  # the dictionary data type is unordered unlike lists"
   ]
  },
  {
   "cell_type": "code",
   "execution_count": null,
   "metadata": {
    "collapsed": false
   },
   "outputs": [],
   "source": [
    "echo(**kwargs)"
   ]
  },
  {
   "cell_type": "code",
   "execution_count": null,
   "metadata": {
    "collapsed": false
   },
   "outputs": [],
   "source": [
    "kwargs = {\n",
    "    'greeting1': 'Hello',\n",
    "    'greeting2': 'Hi',\n",
    "    'greeting3': 'Ohayou',\n",
    "    'kwarg': 'World!',  # we have a default value for this, which is None\n",
    "}\n",
    "\n",
    "def echo(kwarg=None, **kwargs):\n",
    "    print(kwarg)\n",
    "    return kwargs\n",
    "\n",
    "echo(**kwargs)"
   ]
  },
  {
   "cell_type": "markdown",
   "metadata": {},
   "source": [
    "The dictionary we passed was unpacked and considered as if it was a bunch of keyword arguments passed to the function.\n",
    "\n",
    "Notice how the keyword argument with a default value was overridden."
   ]
  }
 ],
 "metadata": {
  "kernelspec": {
   "display_name": "Python 3",
   "language": "python",
   "name": "python3"
  },
  "language_info": {
   "codemirror_mode": {
    "name": "ipython",
    "version": 3
   },
   "file_extension": ".py",
   "mimetype": "text/x-python",
   "name": "python",
   "nbconvert_exporter": "python",
   "pygments_lexer": "ipython3",
   "version": "3.5.1"
  }
 },
 "nbformat": 4,
 "nbformat_minor": 0
}
